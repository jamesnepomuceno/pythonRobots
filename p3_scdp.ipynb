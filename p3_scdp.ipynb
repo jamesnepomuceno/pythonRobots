{
 "cells": [
  {
   "cell_type": "code",
   "execution_count": 17,
   "metadata": {},
   "outputs": [],
   "source": [
    "import pyautogui, sys\n",
    "import time"
   ]
  },
  {
   "cell_type": "code",
   "execution_count": 18,
   "metadata": {},
   "outputs": [],
   "source": [
    "#!pip install Pillow\n",
    "#!pip install pyscreeze\n",
    "import pyscreeze"
   ]
  },
  {
   "cell_type": "code",
   "execution_count": 19,
   "metadata": {},
   "outputs": [
    {
     "data": {
      "text/plain": [
       "Size(width=1920, height=1080)"
      ]
     },
     "execution_count": 19,
     "metadata": {},
     "output_type": "execute_result"
    }
   ],
   "source": [
    "pyautogui.size()"
   ]
  },
  {
   "cell_type": "code",
   "execution_count": 20,
   "metadata": {},
   "outputs": [],
   "source": [
    "pos = pyautogui.position(100,100)\n",
    "pyautogui.moveTo(pos, duration=2)"
   ]
  },
  {
   "cell_type": "code",
   "execution_count": 22,
   "metadata": {},
   "outputs": [
    {
     "name": "stdout",
     "output_type": "stream",
     "text": [
      "X: 1701, Y: 430\n",
      "X: 1289, Y: 245\n",
      "\n",
      "Interrompido pelo usuário.\n"
     ]
    }
   ],
   "source": [
    "try:\n",
    "    while True:\n",
    "        x, y = pyautogui.position()\n",
    "        print(f'X: {x}, Y: {y}')\n",
    "        time.sleep(1)  # Atualiza a cada segundo\n",
    "except KeyboardInterrupt:\n",
    "    print('\\nInterrompido pelo usuário.')"
   ]
  },
  {
   "cell_type": "code",
   "execution_count": 25,
   "metadata": {},
   "outputs": [],
   "source": [
    "#clicando no menu iniciar\n",
    "menuIniciar = pyautogui.position()"
   ]
  },
  {
   "cell_type": "code",
   "execution_count": 28,
   "metadata": {},
   "outputs": [],
   "source": [
    "pyautogui.moveTo(menuIniciar, duration=2)\n",
    "pyautogui.click()"
   ]
  },
  {
   "cell_type": "code",
   "execution_count": null,
   "metadata": {},
   "outputs": [],
   "source": [
    "# clique com botão direito\n",
    "# pyautogui.rightClick()"
   ]
  },
  {
   "cell_type": "code",
   "execution_count": 29,
   "metadata": {},
   "outputs": [],
   "source": [
    "# para clicar e arrastar\n",
    "# pyautogui.dragTo(x, y, duration=2)"
   ]
  },
  {
   "cell_type": "code",
   "execution_count": null,
   "metadata": {},
   "outputs": [],
   "source": [
    "# bolinha do mouse - scroll\n",
    "# pyautogui.scroll(200)"
   ]
  },
  {
   "cell_type": "code",
   "execution_count": null,
   "metadata": {},
   "outputs": [],
   "source": [
    "# posições relativas\n",
    "# pyautogui.moveRel(200, 0)\n",
    "\n",
    "# arrastando de uma posição relativa\n",
    "# pyautogui.dragRel(200, 0, duration=2)"
   ]
  }
 ],
 "metadata": {
  "kernelspec": {
   "display_name": "pyautoguienv",
   "language": "python",
   "name": "python3"
  },
  "language_info": {
   "codemirror_mode": {
    "name": "ipython",
    "version": 3
   },
   "file_extension": ".py",
   "mimetype": "text/x-python",
   "name": "python",
   "nbconvert_exporter": "python",
   "pygments_lexer": "ipython3",
   "version": "3.13.0"
  }
 },
 "nbformat": 4,
 "nbformat_minor": 2
}
